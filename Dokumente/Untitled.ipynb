{
 "cells": [
  {
   "cell_type": "code",
   "execution_count": 22,
   "metadata": {
    "ExecuteTime": {
     "end_time": "2018-11-20T10:42:28.153146Z",
     "start_time": "2018-11-20T10:42:27.708806Z"
    }
   },
   "outputs": [
    {
     "name": "stdout",
     "output_type": "stream",
     "text": [
      "Linux hubvolume-5d5f7fd9d5-8dq8f 4.14.67-coreos #1 SMP Mon Sep 10 23:14:26 UTC 2018 x86_64 GNU/Linux\r\n"
     ]
    }
   ],
   "source": [
    "!uname -a"
   ]
  },
  {
   "cell_type": "code",
   "execution_count": 2,
   "metadata": {
    "ExecuteTime": {
     "end_time": "2018-11-12T11:01:00.647651Z",
     "start_time": "2018-11-12T11:01:00.639843Z"
    },
    "scrolled": false
   },
   "outputs": [
    {
     "name": "stdout",
     "output_type": "stream",
     "text": [
      "00000\n",
      "00001\n",
      "00010\n",
      "00011\n",
      "00100\n",
      "00101\n",
      "00110\n",
      "00111\n",
      "01000\n",
      "01001\n",
      "01010\n",
      "01011\n",
      "01100\n",
      "01101\n",
      "01110\n",
      "01111\n",
      "10000\n",
      "10001\n",
      "10010\n",
      "10011\n",
      "10100\n",
      "10101\n",
      "10110\n",
      "10111\n",
      "11000\n",
      "11001\n",
      "11010\n",
      "11011\n",
      "11100\n",
      "11101\n",
      "11110\n",
      "11111\n"
     ]
    }
   ],
   "source": [
    "def createAlphabet(k, s, n):\n",
    "    if(k == n):\n",
    "        print(s)\n",
    "    else:\n",
    "        createAlphabet(k+1, s+'0', n)\n",
    "        createAlphabet(k+1, s+'1', n)\n",
    "        \n",
    "createAlphabet(0, '', 5)"
   ]
  },
  {
   "cell_type": "code",
   "execution_count": null,
   "metadata": {},
   "outputs": [],
   "source": []
  },
  {
   "cell_type": "code",
   "execution_count": null,
   "metadata": {},
   "outputs": [],
   "source": []
  },
  {
   "cell_type": "code",
   "execution_count": 7,
   "metadata": {
    "ExecuteTime": {
     "end_time": "2018-11-12T11:05:10.626722Z",
     "start_time": "2018-11-12T11:05:10.432015Z"
    }
   },
   "outputs": [
    {
     "data": {
      "image/png": "[encoded data removed]",
      "text/plain": [
       "<matplotlib.figure.Figure at 0x7f61caa576a0>"
      ]
     },
     "metadata": {},
     "output_type": "display_data"
    }
   ],
   "source": [
    "#import numpy as np \n",
    "import colorsys\n",
    "from matplotlib import pyplot as plt\n",
    "golden_angle = 137.5077640500378546463487\n",
    "cur_angle = 0\n",
    "num_color_gen = 20\n",
    "for i in range(num_color_gen):\n",
    "    rgb = colorsys.hsv_to_rgb(cur_angle/360, 1.0, 1.0)\n",
    "    cur_angle+=golden_angle\n",
    "    y_line = i/(num_color_gen-1)\n",
    "    plt.plot([0, 1], [y_line, y_line], c=rgb)\n",
    "\n",
    "#plt.plot([0, 1], [2, 2], c=colorsys.hsv_to_rgb(180/360, 1.0, 1.0))"
   ]
  },
  {
   "cell_type": "code",
   "execution_count": 10,
   "metadata": {
    "ExecuteTime": {
     "end_time": "2018-11-20T10:29:56.574253Z",
     "start_time": "2018-11-20T10:29:55.975117Z"
    }
   },
   "outputs": [
    {
     "name": "stdout",
     "output_type": "stream",
     "text": [
      "total 72\r\n",
      "895977935  8 drwxr-xr-x.  3 mw7893s mw7893s  4096 Nov 20 10:29 .\r\n",
      "887110243  8 drwxr-xr-x. 15 mw7893s mw7893s  4096 Nov 20 10:26 ..\r\n",
      "897542663  8 drwxr-xr-x.  2 mw7893s mw7893s  4096 Oct 22 09:03 .ipynb_checkpoints\r\n",
      "895977937 32 -rw-r--r--.  1 mw7893s mw7893s 25182 Oct 29 13:52 Doku.ipynb\r\n",
      "895977938 16 -rw-r--r--.  1 mw7893s mw7893s  8445 Nov 20 10:29 Untitled.ipynb\r\n"
     ]
    }
   ],
   "source": [
    "!ls -lisa"
   ]
  }
 ],
 "metadata": {
  "hide_input": false,
  "kernelspec": {
   "display_name": "Python 3",
   "language": "python",
   "name": "python3"
  },
  "language_info": {
   "codemirror_mode": {
    "name": "ipython",
    "version": 3
   },
   "file_extension": ".py",
   "mimetype": "text/x-python",
   "name": "python",
   "nbconvert_exporter": "python",
   "pygments_lexer": "ipython3",
   "version": "3.5.4"
  }
 },
 "nbformat": 4,
 "nbformat_minor": 2
}
