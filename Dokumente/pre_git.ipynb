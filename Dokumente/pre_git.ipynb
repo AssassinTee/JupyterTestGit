{
 "cells": [
  {
   "cell_type": "code",
   "execution_count": null,
   "metadata": {
    "ExecuteTime": {
     "start_time": "2018-11-20T13:37:41.977Z"
    },
    "scrolled": false
   },
   "outputs": [
    {
     "name": "stdout",
     "output_type": "stream",
     "text": [
      "total 100\n",
      "895977935  8 drwxr-xr-x.  4 mw7893s mw7893s  4096 Nov 20 13:37 .\n",
      "887110243  8 drwxr-xr-x. 16 mw7893s mw7893s  4096 Nov 20 13:37 ..\n",
      "897542663  8 drwxr-xr-x.  2 mw7893s mw7893s  4096 Nov 20 10:54 .ipynb_checkpoints\n",
      "895977937 32 -rw-r--r--.  1 mw7893s mw7893s 25182 Oct 29 13:52 Doku.ipynb\n",
      "908487981  8 drwxr-xr-x.  3 mw7893s mw7893s  4096 Nov 20 13:37 JupyterTestGit\n",
      "895977938 16 -rw-r--r--.  1 mw7893s mw7893s  9557 Nov 20 10:43 Untitled.ipynb\n",
      "895977942  8 -r--------.  1 mw7893s mw7893s  1679 Nov 20 12:26 id_rsa\n",
      "895977941 12 -rw-r--r--.  1 mw7893s mw7893s  4814 Nov 20 13:36 pre_git.ipynb\n",
      "rm: cannot remove ‘/home/mw7893s/ssh/config’: No such file or directory\n",
      "git not found, cloning project\n",
      "On branch master\n",
      "Untracked files:\n",
      "  (use \"git add <file>...\" to include in what will be committed)\n",
      "\n",
      "\t\u001b[31m../.bash_logout\u001b[m\n",
      "\t\u001b[31m../.bashrc\u001b[m\n",
      "\t\u001b[31m../.cache/\u001b[m\n",
      "\t\u001b[31m../.gitconfig\u001b[m\n",
      "\t\u001b[31m../.ipython/\u001b[m\n",
      "\t\u001b[31m../.jupyter/\u001b[m\n",
      "\t\u001b[31m../.keras/\u001b[m\n",
      "\t\u001b[31m../.local/\u001b[m\n",
      "\t\u001b[31m../.profile\u001b[m\n",
      "\t\u001b[31m../.ssh/\u001b[m\n",
      "\t\u001b[31m../Bildverarbeitung-SS2018/\u001b[m\n",
      "\t\u001b[31m../Machine Learning/\u001b[m\n",
      "\t\u001b[31m../Methoden der Computersimulation/\u001b[m\n",
      "\t\u001b[31m../scikit_learn_data/\u001b[m\n",
      "\n",
      "nothing added to commit but untracked files present (use \"git add\" to track)\n",
      "/home/mw7893s/Dokumente\n",
      "Cloning into 'JupyterTestGit'...\n",
      "warning: You appear to have cloned an empty repository.\n",
      "Checking connectivity... done.\n",
      "On branch master\n",
      "Untracked files:\n",
      "\t\u001b[31m../.bash_logout\u001b[m\n",
      "\t\u001b[31m../.bashrc\u001b[m\n",
      "\t\u001b[31m../.cache/\u001b[m\n",
      "\t\u001b[31m../.gitconfig\u001b[m\n",
      "\t\u001b[31m../.ipython/\u001b[m\n",
      "\t\u001b[31m../.jupyter/\u001b[m\n",
      "\t\u001b[31m../.keras/\u001b[m\n",
      "\t\u001b[31m../.local/\u001b[m\n",
      "\t\u001b[31m../.profile\u001b[m\n",
      "\t\u001b[31m../.ssh/\u001b[m\n",
      "\t\u001b[31m../Bildverarbeitung-SS2018/\u001b[m\n",
      "\t\u001b[31m../Machine Learning/\u001b[m\n",
      "\t\u001b[31m../Methoden der Computersimulation/\u001b[m\n",
      "\t\u001b[31m../scikit_learn_data/\u001b[m\n",
      "\n",
      "nothing added to commit but untracked files present\n",
      "Username for 'https://github.com': "
     ]
    }
   ],
   "source": [
    "import os\n",
    "!ls -lisa\n",
    "!rm -rf .git\n",
    "!rm -rf JupyterTestGit\n",
    "!rm ~/ssh/config\n",
    "if(os.path.isdir('.git')):\n",
    "    print('git found')\n",
    "    !git add .\n",
    "    !git commit -m \"generic commit\"\n",
    "    !git push origin master\n",
    "    print('tried commit')\n",
    "else:\n",
    "    print('git not found, cloning project')\n",
    "    !git status\n",
    "    !pwd\n",
    "    #!ssh-keyscan github.com >> ~/.ssh/known_hosts\n",
    "    #!git config core.sshCommand 'ssh -i /home/mw7893s/Dokumente/id_rsa' \n",
    "    !git clone https://github.com/AssassinTee/JupyterTestGit.git\n",
    "    !git config --global user.email \"m.winkens@yahoo.de\"\n",
    "    !git config --global user.name \"marvin\"\n",
    "    !git remote add origin https://github.com/AssassinTee/JupyterTestGit.git\n",
    "    !git add .\n",
    "    !git commit -m \"generic commit\"\n",
    "    !git push origin master\n",
    "    print('tried cloning')\n",
    "    \n",
    "    "
   ]
  }
 ],
 "metadata": {
  "hide_input": false,
  "kernelspec": {
   "display_name": "Python 3",
   "language": "python",
   "name": "python3"
  },
  "language_info": {
   "codemirror_mode": {
    "name": "ipython",
    "version": 3
   },
   "file_extension": ".py",
   "mimetype": "text/x-python",
   "name": "python",
   "nbconvert_exporter": "python",
   "pygments_lexer": "ipython3",
   "version": "3.5.4"
  }
 },
 "nbformat": 4,
 "nbformat_minor": 2
}
