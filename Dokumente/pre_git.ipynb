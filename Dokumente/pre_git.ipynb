{
 "cells": [
  {
   "cell_type": "code",
   "execution_count": 13,
   "metadata": {
    "ExecuteTime": {
     "end_time": "2018-11-20T12:27:33.395855Z",
     "start_time": "2018-11-20T12:27:29.013909Z"
    }
   },
   "outputs": [
    {
     "name": "stdout",
     "output_type": "stream",
     "text": [
      "total 96\n",
      "895977935  8 drwxr-xr-x.  4 mw7893s mw7893s  4096 Nov 20 12:26 .\n",
      "887110243  8 drwxr-xr-x. 15 mw7893s mw7893s  4096 Nov 20 10:26 ..\n",
      "897542663  8 drwxr-xr-x.  2 mw7893s mw7893s  4096 Nov 20 10:54 .ipynb_checkpoints\n",
      "895977937 32 -rw-r--r--.  1 mw7893s mw7893s 25182 Oct 29 13:52 Doku.ipynb\n",
      "908487981  8 drwxr-xr-x.  3 mw7893s mw7893s  4096 Nov 20 11:04 JupyterTestGit\n",
      "895977938 16 -rw-r--r--.  1 mw7893s mw7893s  9557 Nov 20 10:43 Untitled.ipynb\n",
      "895977942  8 -rw-r--r--.  1 mw7893s mw7893s  1679 Nov 20 12:26 key\n",
      "895977941  8 -rw-r--r--.  1 mw7893s mw7893s  1823 Nov 20 12:25 pre_git.ipynb\n",
      "rm: cannot remove ‘JupyterTestGit’: Is a directory\n",
      "git not found, cloning project\n",
      "fatal: destination path 'JupyterTestGit' already exists and is not an empty directory.\n",
      "Could not open a connection to your authentication agent.\n",
      "[master (root-commit) 38cb03a] generic commit\n",
      " 7 files changed, 965 insertions(+)\n",
      " create mode 100644 Dokumente/.ipynb_checkpoints/Doku-checkpoint.ipynb\n",
      " create mode 100644 Dokumente/.ipynb_checkpoints/Untitled-checkpoint.ipynb\n",
      " create mode 100644 Dokumente/.ipynb_checkpoints/pre_git-checkpoint.ipynb\n",
      " create mode 100644 Dokumente/Doku.ipynb\n",
      " create mode 100644 Dokumente/Untitled.ipynb\n",
      " create mode 100644 Dokumente/key\n",
      " create mode 100644 Dokumente/pre_git.ipynb\n",
      "fatal: 'origin' does not appear to be a git repository\n",
      "fatal: Could not read from remote repository.\n",
      "\n",
      "Please make sure you have the correct access rights\n",
      "and the repository exists.\n",
      "tried cloning\n"
     ]
    }
   ],
   "source": [
    "import os\n",
    "!ls -lisa\n",
    "!rm -Rf .git\n",
    "!rm JupyterTestGit\n",
    "if(os.path.isdir('.git')):\n",
    "    print('git found')\n",
    "    !git add .\n",
    "    !git commit -m \"generic commit\"\n",
    "    !git push origin master\n",
    "    print('tried commit')\n",
    "else:\n",
    "    print('git not found, cloning project')\n",
    "    !git clone git@github.com:AssassinTee/JupyterTestGit.git\n",
    "    !ssh-add key\n",
    "    !git config --global user.email \"m.winkens@yahoo.de\"\n",
    "    !git config --global user.name \"marvin\"\n",
    "    !git add .\n",
    "    !git commit -m \"generic commit\"\n",
    "    !git push origin master\n",
    "    print('tried cloning')\n",
    "    \n",
    "    "
   ]
  }
 ],
 "metadata": {
  "hide_input": false,
  "kernelspec": {
   "display_name": "Python 3",
   "language": "python",
   "name": "python3"
  },
  "language_info": {
   "codemirror_mode": {
    "name": "ipython",
    "version": 3
   },
   "file_extension": ".py",
   "mimetype": "text/x-python",
   "name": "python",
   "nbconvert_exporter": "python",
   "pygments_lexer": "ipython3",
   "version": "3.5.4"
  }
 },
 "nbformat": 4,
 "nbformat_minor": 2
}
