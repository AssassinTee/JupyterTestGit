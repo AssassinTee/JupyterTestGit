{
 "cells": [
  {
   "cell_type": "code",
   "execution_count": null,
   "metadata": {
    "ExecuteTime": {
     "end_time": "2018-11-21T07:57:15.731260Z",
     "start_time": "2018-11-21T07:57:10.342033Z"
    },
    "scrolled": false
   },
   "outputs": [],
   "source": []
  },
  {
   "cell_type": "code",
   "execution_count": 91,
   "metadata": {
    "ExecuteTime": {
     "end_time": "2018-11-21T08:36:33.461516Z",
     "start_time": "2018-11-21T08:36:25.980610Z"
    }
   },
   "outputs": [
    {
     "name": "stdout",
     "output_type": "stream",
     "text": [
      "From github.com:AssassinTee/JupyterTestGit\n",
      " * branch            master     -> FETCH_HEAD\n",
      "Already up-to-date.\n",
      "[master f3236ab] generic comment\n",
      " 1 file changed, 11 insertions(+), 11 deletions(-)\n",
      "Counting objects: 4, done.\n",
      "Delta compression using up to 32 threads.\n",
      "Compressing objects: 100% (3/3), done.\n",
      "Writing objects: 100% (4/4), 514 bytes | 0 bytes/s, done.\n",
      "Total 4 (delta 2), reused 0 (delta 0)\n",
      "remote: Resolving deltas: 100% (2/2), completed with 2 local objects.\u001b[K\n",
      "To git@github.com:AssassinTee/JupyterTestGit.git\n",
      "   1dddfbd..f3236ab  master -> master\n"
     ]
    }
   ],
   "source": [
    "#!rm -rf JupyterTestGit/\n",
    "#!rm -rf .git/\n",
    "!chmod 400 ../.ssh/id_rsa\n",
    "!chmod 400 ../.ssh/id_rsa.pub\n",
    "import os\n",
    "if(os.path.isdir('JupyterTestGit')):\n",
    "    !git pull origin master\n",
    "    !git add .\n",
    "    !git commit -m \"generic comment\"\n",
    "    !git push origin master\n",
    "else:\n",
    "    !git clone git@github.com:AssassinTee/JupyterTestGit.git\n",
    "    #!git remote add origin git@github.com:AssassinTee/JupyterTestGit.git\n",
    "    !git remote set-url origin git@github.com:AssassinTee/JupyterTestGit.git\n",
    "    !git config --global user.email \"m.winkens@yahoo.de\"\n",
    "    !git config --global user.name \"marvin\"\n",
    "    !git add .\n",
    "    !git commit -m \"first commit\"\n",
    "    !git push origin master"
   ]
  },
  {
   "cell_type": "code",
   "execution_count": 88,
   "metadata": {
    "ExecuteTime": {
     "end_time": "2018-11-21T08:31:33.405404Z",
     "start_time": "2018-11-21T08:31:32.985926Z"
    }
   },
   "outputs": [
    {
     "name": "stdout",
     "output_type": "stream",
     "text": [
      "On branch master\r\n",
      "Changes not staged for commit:\r\n",
      "  (use \"git add <file>...\" to update what will be committed)\r\n",
      "  (use \"git checkout -- <file>...\" to discard changes in working directory)\r\n",
      "\r\n",
      "\t\u001b[31mmodified:   pre_git.ipynb\u001b[m\r\n",
      "\r\n",
      "Untracked files:\r\n",
      "  (use \"git add <file>...\" to include in what will be committed)\r\n",
      "\r\n",
      "\t\u001b[31m../.bash_logout\u001b[m\r\n",
      "\t\u001b[31m../.bashrc\u001b[m\r\n",
      "\t\u001b[31m../.cache/\u001b[m\r\n",
      "\t\u001b[31m../.gitconfig\u001b[m\r\n",
      "\t\u001b[31m../.ipython/\u001b[m\r\n",
      "\t\u001b[31m../.jupyter/\u001b[m\r\n",
      "\t\u001b[31m../.keras/\u001b[m\r\n",
      "\t\u001b[31m../.local/\u001b[m\r\n",
      "\t\u001b[31m../.profile\u001b[m\r\n",
      "\t\u001b[31m../.ssh/\u001b[m\r\n",
      "\t\u001b[31m../Bildverarbeitung-SS2018/\u001b[m\r\n",
      "\t\u001b[31m../Machine Learning/\u001b[m\r\n",
      "\t\u001b[31m../Methoden der Computersimulation/\u001b[m\r\n",
      "\t\u001b[31m../key\u001b[m\r\n",
      "\t\u001b[31m../key.pub\u001b[m\r\n",
      "\t\u001b[31m../scikit_learn_data/\u001b[m\r\n",
      "\r\n",
      "no changes added to commit (use \"git add\" and/or \"git commit -a\")\r\n"
     ]
    }
   ],
   "source": [
    "!git status"
   ]
  },
  {
   "cell_type": "code",
   "execution_count": 74,
   "metadata": {
    "ExecuteTime": {
     "end_time": "2018-11-21T08:16:22.720013Z",
     "start_time": "2018-11-21T08:16:22.283293Z"
    }
   },
   "outputs": [
    {
     "name": "stdout",
     "output_type": "stream",
     "text": [
      "config\tid_rsa\tid_rsa.pub  known_hosts\r\n"
     ]
    }
   ],
   "source": [
    "!ls ../.ssh/"
   ]
  }
 ],
 "metadata": {
  "hide_input": false,
  "kernelspec": {
   "display_name": "Python 3",
   "language": "python",
   "name": "python3"
  },
  "language_info": {
   "codemirror_mode": {
    "name": "ipython",
    "version": 3
   },
   "file_extension": ".py",
   "mimetype": "text/x-python",
   "name": "python",
   "nbconvert_exporter": "python",
   "pygments_lexer": "ipython3",
   "version": "3.5.4"
  }
 },
 "nbformat": 4,
 "nbformat_minor": 2
}
