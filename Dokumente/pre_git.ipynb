{
 "cells": [
  {
   "cell_type": "code",
   "execution_count": 11,
   "metadata": {
    "ExecuteTime": {
     "end_time": "2018-11-20T12:24:48.152111Z",
     "start_time": "2018-11-20T12:24:48.142584Z"
    }
   },
   "outputs": [
    {
     "ename": "SyntaxError",
     "evalue": "invalid token (<ipython-input-11-4a22a3e06560>, line 15)",
     "output_type": "error",
     "traceback": [
      "\u001b[0;36m  File \u001b[0;32m\"<ipython-input-11-4a22a3e06560>\"\u001b[0;36m, line \u001b[0;32m15\u001b[0m\n\u001b[0;31m    +0BTHd8TXDMJomXiI/CASyBYABPn8gmg7uVwSKMtiK5gOraum+rbCH45uAhWZ3yS\u001b[0m\n\u001b[0m      ^\u001b[0m\n\u001b[0;31mSyntaxError\u001b[0m\u001b[0;31m:\u001b[0m invalid token\n"
     ]
    }
   ],
   "source": [
    "import os\n",
    "!ls -lisa\n",
    "!rm -Rf .git\n",
    "!rm JupyterTestGit\n",
    "if(os.path.isdir('.git')):\n",
    "    print('git found')\n",
    "    !git add .\n",
    "    !git commit -m \"generic commit\"\n",
    "    !git push origin master\n",
    "    print('tried commit')\n",
    "else:\n",
    "    print('git not found, cloning project')\n",
    "    !git clone git@github.com:AssassinTee/JupyterTestGit.git\n",
    "    !ssh-add key\n",
    "    !git add .\n",
    "    !git commit -m \"generic commit\"\n",
    "    !git push origin master\n",
    "    print('tried cloning')\n",
    "    \n",
    "    "
   ]
  }
 ],
 "metadata": {
  "hide_input": false,
  "kernelspec": {
   "display_name": "Python 3",
   "language": "python",
   "name": "python3"
  },
  "language_info": {
   "codemirror_mode": {
    "name": "ipython",
    "version": 3
   },
   "file_extension": ".py",
   "mimetype": "text/x-python",
   "name": "python",
   "nbconvert_exporter": "python",
   "pygments_lexer": "ipython3",
   "version": "3.5.4"
  }
 },
 "nbformat": 4,
 "nbformat_minor": 2
}
