{
 "cells": [
  {
   "cell_type": "code",
   "execution_count": null,
   "metadata": {
    "ExecuteTime": {
     "start_time": "2018-11-20T13:00:24.002Z"
    },
    "scrolled": false
   },
   "outputs": [
    {
     "name": "stdout",
     "output_type": "stream",
     "text": [
      "total 92\n",
      "895977935  8 drwxr-xr-x.  3 mw7893s mw7893s  4096 Nov 20 12:59 .\n",
      "887110243  8 drwxr-xr-x. 16 mw7893s mw7893s  4096 Nov 20 12:59 ..\n",
      "897542663  8 drwxr-xr-x.  2 mw7893s mw7893s  4096 Nov 20 10:54 .ipynb_checkpoints\n",
      "895977937 32 -rw-r--r--.  1 mw7893s mw7893s 25182 Oct 29 13:52 Doku.ipynb\n",
      "895977938 16 -rw-r--r--.  1 mw7893s mw7893s  9557 Nov 20 10:43 Untitled.ipynb\n",
      "895977942  8 -r--------.  1 mw7893s mw7893s  1679 Nov 20 12:26 id_rsa\n",
      "895977941 12 -rw-r--r--.  1 mw7893s mw7893s  7448 Nov 20 12:58 pre_git.ipynb\n",
      "rm: cannot remove ‘/home/mw7893s/ssh/config’: No such file or directory\n",
      "git not found, cloning project\n",
      "On branch master\n",
      "Untracked files:\n",
      "  (use \"git add <file>...\" to include in what will be committed)\n",
      "\n",
      "\t\u001b[31m../.bash_logout\u001b[m\n",
      "\t\u001b[31m../.bashrc\u001b[m\n",
      "\t\u001b[31m../.cache/\u001b[m\n",
      "\t\u001b[31m../.gitconfig\u001b[m\n",
      "\t\u001b[31m../.ipython/\u001b[m\n",
      "\t\u001b[31m../.jupyter/\u001b[m\n",
      "\t\u001b[31m../.keras/\u001b[m\n",
      "\t\u001b[31m../.local/\u001b[m\n",
      "\t\u001b[31m../.profile\u001b[m\n",
      "\t\u001b[31m../.ssh/\u001b[m\n",
      "\t\u001b[31m../Bildverarbeitung-SS2018/\u001b[m\n",
      "\t\u001b[31m../Machine Learning/\u001b[m\n",
      "\t\u001b[31m../Methoden der Computersimulation/\u001b[m\n",
      "\t\u001b[31m../scikit_learn_data/\u001b[m\n",
      "\n",
      "nothing added to commit but untracked files present (use \"git add\" to track)\n",
      "/bin/sh: 1: /home/mw7893s/.ssh/config: Permission denied\n",
      "/bin/sh: 1: /home/mw7893s/.ssh/config: Permission denied\n",
      "/bin/sh: 1: /home/mw7893s/.ssh/config: Permission denied\n",
      "/bin/sh: 1: /home/mw7893s/.ssh/config: Permission denied\n",
      "Could not open a connection to your authentication agent.\n",
      "1\n"
     ]
    }
   ],
   "source": [
    "import os\n",
    "!ls -lisa\n",
    "!rm -rf .git\n",
    "!rm -rf JupyterTestGit\n",
    "!rm ~/ssh/config\n",
    "if(os.path.isdir('.git')):\n",
    "    print('git found')\n",
    "    !git add .\n",
    "    !git commit -m \"generic commit\"\n",
    "    !git push origin master\n",
    "    print('tried commit')\n",
    "else:\n",
    "    print('git not found, cloning project')\n",
    "    !git status\n",
    "    #!ssh-keyscan github.com >> ~/.ssh/known_hosts\n",
    "    !touch ~/.ssh/config\n",
    "    !~/.ssh/config << \"host github.com\"\n",
    "    !~/.ssh/config << \" HostName github.com\"\n",
    "    !~/.ssh/config << \" IdentityFile id_rsa\"\n",
    "    !~/.ssh/config << \" User git\"\n",
    "    !chmod 400 id_rsa\n",
    "    !ssh-add id_rsa\n",
    "    !echo $1\n",
    "    !ssh -vT git@github.com\n",
    "    print(\"t1\")\n",
    "    !git clone git@github.com:AssassinTee/JupyterTestGit.git\n",
    "\n",
    "    !git config --global user.email \"m.winkens@yahoo.de\"\n",
    "    !git config --global user.name \"marvin\"\n",
    "    !git add .\n",
    "    !git commit -m \"generic commit\"\n",
    "    !git push origin master\n",
    "    print('tried cloning')\n",
    "    \n",
    "    "
   ]
  }
 ],
 "metadata": {
  "hide_input": false,
  "kernelspec": {
   "display_name": "Python 3",
   "language": "python",
   "name": "python3"
  },
  "language_info": {
   "codemirror_mode": {
    "name": "ipython",
    "version": 3
   },
   "file_extension": ".py",
   "mimetype": "text/x-python",
   "name": "python",
   "nbconvert_exporter": "python",
   "pygments_lexer": "ipython3",
   "version": "3.5.4"
  }
 },
 "nbformat": 4,
 "nbformat_minor": 2
}
