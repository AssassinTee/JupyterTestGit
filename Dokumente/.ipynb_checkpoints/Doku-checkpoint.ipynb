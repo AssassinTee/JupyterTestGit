{
 "cells": [
  {
   "cell_type": "markdown",
   "metadata": {},
   "source": [
    "# Dokumentation von Software und Programmcode(s)"
   ]
  },
  {
   "cell_type": "markdown",
   "metadata": {},
   "source": [
    "## Marvin Winkens\n",
    "\n",
    "Die folgende Dokumentation ist keine Angabe von allen Arbeiten, die ich bei Lunovu geleistet habe, sondern lediglich eine Dokumentation von Software, Code etc., die dem nächsten HiWi/WiHi ermöglichen soll, sich mit Teilen meiner Arbeit zurechtfinden zu können. Beispielsweise fehlt die Dokumentation vieler Bugfixes, die ich im Laufe des Jahres geleistet habe und teilweise sehr zeitintensiv waren."
   ]
  },
  {
   "cell_type": "markdown",
   "metadata": {},
   "source": [
    "## RCI-Schnittstelle\n",
    "Die RCI-Schnittstelle ist die Umsetzung der Kommunikation mit einer Trump Maschine.\n",
    "Die Schnittstelle gehört zum [Doerrenberg-Projekt](\\\\FSERVER1\\Projekte\\607_SCAN_BAHNPL_DOERRENBERG) und arbeitet nach dem Prinzip, \n",
    "dass in der [Schnittstellenbeschreibung](K:\\607_SCAN_BAHNPL_DOERRENBERG\\02 Technik\\03 Technische Dokumentationen von Komponenten\\Schnittstelle SPS - Input Fleck Trumpf)\n",
    "beschrieben wird.\n",
    "\n",
    "Dabei wird mit Kommunikationsdateien gearbeitet, die normalerweise unter `C:\\temp` liegen.\n",
    "\n",
    "Die Software `Der Produkt` arbeitet ebenfalls mit der RCI-Schnittstelle. Dort kann man mit Settings den Kommunikationspfad ändern.\n",
    "\n",
    "Wichtig ist, dass die Schnittstelle gepuffert und asynchron abläuft. Das heißt, dass die RCI-Schnittstellen-Aufrufe nicht blockieren und man eventuell auf das Dateisystem warten muss, bis die Anweisung an die Maschine geleitet wurde.\n",
    "\n",
    "Zudem lassen sich Anweisungen auch hintereinander Schalten:\n",
    "\n",
    "```\n",
    "RCI->splitNC(...);//Schreibe befehl für \"split NC\" in den Puffer\n",
    "RCI->ncStart(...);//Schreibe befehl für \"start NC\" in den Puffer\n",
    "RCI->pushMessages();//Sende Befehle an die Maschine\n",
    "```\n",
    "\n",
    "Callbacks von Erfolg, Misserfolg und Ergebnisssen erfolgen über [boost-signals](https://www.boost.org/doc/libs/1_63_0/doc/html/signals/tutorial.html#idp607704080).\n",
    "Für das asynchrone Verhalten besitzt die RCI-Schnittstelle einen eigenen [thread](https://www.boost.org/doc/libs/1_64_0/doc/html/thread.html), der im run loop auch [interruption points](https://www.boost.org/doc/libs/1_54_0/doc/html/thread/thread_management.html) besitzt.\n",
    "\n",
    "RCI arbeitet mit [boost::filesystem::path](https://www.boost.org/doc/libs/1_66_0/boost/filesystem/path.hpp) objekten. Um diese zu einem String umzuwandeln, **sollte** man die `native()`-Methode nutzen. Anders als die `string()`-Methode gibt diese den Pfad in der Kodierung des Betriebsystem (z.B. `C:\\\\temp` anstelle von `c:/temp`) zurück.\n"
   ]
  },
  {
   "cell_type": "markdown",
   "metadata": {
    "ExecuteTime": {
     "end_time": "2018-10-16T08:01:59.586062Z",
     "start_time": "2018-10-16T08:01:59.582119Z"
    }
   },
   "source": [
    "## DP - Der Produkt - Lunovu's große Hauptsoftwarebaustelle\n",
    "### Settings\n",
    "\n",
    "Die Settings-Klasse(n) enthalten die Einstellungen von DP. Die Settings sind (wie ganz DP) in Front- und Backend aufgeteilt.\n",
    "#### Backend\n",
    "Die Backend-Implementierung lässt sich in der Settings-Klasse (Settings.cpp; LUNOBackend::Settings) finden. Die Settings werden generell in einer [Inidatei](https://de.wikipedia.org/wiki/Initialisierungsdatei) (ja, dafür gibt es einen Standard) gespeichert. Das wird automatisch durch den [boost-property-tree](https://www.boost.org/doc/libs/1_65_1/doc/html/property_tree/accessing.html) geregelt, der Funktionen für das Lesen und Schreiben von Inidateien besitzt. Leider darf der *ptree* dafür höchstens eine tiefe von 2 besitzen. \n",
    "Zusätzlich besitzt die Settings-Klasse das [Singleton-design-pattern](https://stackoverflow.com/questions/1008019/c-singleton-design-pattern), um zu verhindern, dass mehr als eine Instanz von Settings erzeugt wird (wofür?).\n",
    "\n",
    "Jedes Settings wird (sollte) in der *initDefault()*-Methode initialisiert werden. Dort werden (wie der Name schon sagt) Standardwerte zugewiesen.\n",
    "Anschließend wird mit der *readSettings*-Methode versucht, die Inidatei zu lesen. Ist diese nicht vorhanden, wird eine flag gesetzt, sodass eine neue Datei am Ende der Methode mit den Standard Settings erzeugt wird. Dafür werden vorher alle Settings in den *ptree* eingetragen, der dann in die Datei geschrieben wird.\n",
    "\n",
    "Es ist durchaus möglich, dass neue Einstellungen noch bereits im Programm aber noch nicht in der Ini-Datei existieren, während die Ini-Datei existiert. Das ist kein Problem, da die template-Methode *get()* beim fehlerhaften Lesen aus dem ptree einen neuen *Eintrag* erzeugt, der später in der Inidatei gespeichert wird. Ein Eintrag besteht aus mehreren *Properties*. Jeder Eintrag besitzt einen Wert *value*, einen Datentyp *type* und einen Beschreibung *desc*. Diese Lassen sich auch alle im ptree wiederfinden:\n",
    "\n",
    "Auszug aus usersettings.ini\n",
    "```\n",
    "[Encoder]\n",
    "Model-value=1\n",
    "Model-type=USHORT\n",
    "Model-desc=\n",
    "```\n",
    "Der Eintrag heißt `Model` und besitzt den Datentyp `unsigned short`. Da eine Inidatei keine größere Tiefe als 2 zulässt und `\"Encoder.Model\"` bereits die Tiefe 2 besitzt, werden value, type, und desc nicht als Teilbaum implementiert.\n",
    "\n",
    "Um den Datentypen für einen Eintrag zu bekommen, existiert die *getType*-Template-Funktion. Diese ist leider keine Allgemeinlösung und unterstützt nur folgende Datentypen:\n",
    "- int\n",
    "- double\n",
    "- std::string\n",
    "- float\n",
    "- unsigned short\n",
    "- short\n",
    "- long\n",
    "- bool\n",
    "\n",
    "Es ist durchaus möglich, dass weitere oder sogar eigene Datentypen unsterstützt werden sollen (bsp.: IP_ADDR).\n",
    "Wenn der Datentyp unbekannt ist, gibt diese Methode `\"UNKNOWN\"` zurück.\n",
    "Der Datentyp wird benötigt, da alle *Properties* im ptree als `std::string` gespeichert werden und im **Frontend** ein Parsing stattfindet.\n",
    "\n",
    "Im Destruktor der Settings-Klasse befindet sich die *writeSettings()*-Methode. Das heißt, wenn das Programm geschlossen oder die Klasse zerstört wird, werden die Settings automatisch gespeichert.\n",
    "\n"
   ]
  },
  {
   "cell_type": "markdown",
   "metadata": {
    "ExecuteTime": {
     "end_time": "2018-10-16T08:45:05.574435Z",
     "start_time": "2018-10-16T08:45:05.570003Z"
    }
   },
   "source": [
    "#### Frontend\n",
    "Die Frontend-Implementierung befindet sich in der qSettings-Klasse (qSettings.cpp). Diese ist von QWidget abgeleitet und besitzt eine eigene ui-Datei. Die Ui besteht größtenteils aus einer *QSliderArea* und zwei *QPushButtons* mit den Bezeichungen *Speichern* und *Reset*.\n",
    "\n",
    "Im Konstruktor der Klasse wird ein eigener ptree **aus der Inidatei** kopiert und \n",
    "automatisch eine Gui mit 4 (TODO: Setting?) Spalten erzeugt. In jeder der Spalten befindet sich eine Group Box, \n",
    "die den Namen der Obergruppe (bsp.: `\"Encoder\"`) eines Settings bestitzt. Anschließend folgt eine liste von *QLabels* und *QLineEdits* (Textfeld) für jedes Setting der Obergruppe. Dabei wird in das Textfeld der aktuelle Wert (value) eingetragen und (wenn möglich) ein validator für den Datentyp hinzugefügt. Der Validator sorgt dafür, dass ungültige Werte schwieriger/unmöglich einzutragen sind. Beispielsweise lässt sich `xyz` nicht eintragen, wenn ein double-Wert erwartet wird.\n",
    "\n",
    "Jedes Textfeld besitzt den Objektnamen des Settings, das es vertritt. Dadurch ist es möglich, das ändern von Settings über die Signal/Slot mechanik von QT zu lösen. Wenn ein Wert im Textfeld geändert wird, so wird der neue Wert geparst und in den ptree eingespeichert.\n",
    "\n",
    "Die Einstellungen werden erst im Backend geändert, wenn auf *Speichern* gedrückt wird. Dann wird der neue ptree in das backend geschrieben und das Backend mit der *reload()*-Funktion neu geladen. Auch die Inidatei erhält ein Update.\n",
    "\n",
    "Teile der Implementierung wurden in das *MainWindow* (MainWindow.cpp) ausgelagert, um Dialoge zu ermöglichen."
   ]
  },
  {
   "cell_type": "markdown",
   "metadata": {},
   "source": [
    "### PointPicker und qFrame3DView\n",
    "\n",
    "Es ist möglich, Konturen auf einer geladenen Punktewolke und/oder einem geladenen Mesh zu zeichnen (2D auf 3D (?)). Dafür gibt es den PointFinder-namespace. Dieser besteht aus einer Reihe statischer Funktionen die es ermöglicht, einen Punkt auf der *Oberfläche* einer Punktewolke oder der Oberfläche eines Meshes zu finden.\n",
    "\n",
    "Zunächst wird ein Richtungsvektor benötigt, um eine Gerade durch das/die geladene(n) Volumen legen zu können. Dafür existiert die Methode *pickfrontpoint()*. Diese bekommt X- und Y-Doordinaten des Mouseklicks und einen pointer des PCL-Viewers und berechnet Start- und Endpunkt der Geraden mit dem Clip des Volumens.\n",
    "\n",
    "Dabei Implementierungen für PointCloud und Mesh sind verschieden.\n",
    "\n",
    "#### Mesh\n",
    "\n",
    "Beim Mesh werden alle Schnitte der Geraden mit Dreiecken (verticies) gesucht. Dies geschieht mit dem Algorithmus unter diesem [Link](https://stackoverflow.com/questions/42740765/intersection-between-line-and-triangle-in-3d). Dafür wird mit openmp über alle Dreiecke iteriert.\n",
    "Anschließend werden alle Dreiecke (btw. erster Punkt im Dreieck) nach dem Abstand zum Startpunkt sortiert.\n",
    "Zuletzt wird das dem Startpunkt am nächsten liegende Dreieck genommen und der Punkt gesucht, der der Gerade am nächsten ist (3 mal abstand Punkt-Gerade).\n",
    "Die Implementierung lässt sich in der *pickFrontPointMesh()*-Funktion finden und gibt den Index des gefunden Punktes zurück.\n",
    "\n",
    "#### PointCloud\n",
    "\n",
    "Es wird ein Punkt von der Oberfläche der Pointcloud gesucht, wobei Konvexe Hüllen nicht zulässig sind. Dieses Problem ist nicht eindeutig lösbar. Wenn man eine Gerade durch eine Punktewolke legst, können Punkte aus dem Hintergrund nächer an der Geraden liegen.\n",
    "\n",
    "Daher wird eher ein Zylinder (Gerade ist verbindungslinie der Mittelpunkte der Kreisflächen) verwendet, den man durch die Punktewolke legt und alle getroffenen Punkte nach dem Abstand zum Startpunkt sortiert. Dabei ist es immernoch möglich (nicht ausschließbar), ausschließlich Punkte aus dem Hintergrund zu treffen. Außerdem kann ein am Startpunkt näher liegender Vordergrundpunkt wesentlich (abhängig vom Zylinderradius) weiter von der Geraden wegliegen und man verfehlt somit den angewählten Punkt.\n"
   ]
  },
  {
   "cell_type": "markdown",
   "metadata": {},
   "source": [
    "### Ball-Pivot\n",
    "\n",
    "Implementierung des Ball-Pivot-Algorithmus auf der CPU. Der Algorithmus kann \"im Kreis laufen\", weshalb eine loopcount-map hinzugefügt wurde. Diese zählt, wie oft ein einzelner Punkt angeschaut wird. Wenn dieser Wert 100 erreicht, wird der Punkt ingoriert. Dadurch wird der Algrithmus auf jedenfall irgendwann aufhören. Zudem wurde ein boost-signal zur Fortschrittsbestimmung (für einen Ladebalken) hinzugefügt. Dieses ist aber durchaus überarbeitungsfähig."
   ]
  },
  {
   "cell_type": "markdown",
   "metadata": {},
   "source": [
    "### StatusBar\n",
    "Die *StatusBar*-Klasse ist ein einfaches Widget zum anzeigen von Fortschritt. Sie besitzt einen *ProgressIndicator*, eine Statusanzeige, einen Ladebalken und einen Schrittzähler.\n",
    "- *ProgressIndicator*: Der ProgressIndicator ist eine einfache Klasse die Anzeigt, ob der Rechner noch arbeitet. Sie besteht aus einem einfachen Widget, dass in jedem `paintEvent` um Uhrzeigersinn Kreisbereiche bemalt. Der Indicator wurde [von github entnommen](https://github.com/mojocorp/QProgressIndicator/blob/master/QProgressIndicator.h) und steht unter der MIT-Lizens, sodass er Problemlos in DP übernommen werden darf.\n",
    "- *Statusanzeige*: Die Statusanzeige zeigt in welchem Status (`LUNO_STATE`) sich DP befindet und was gerade berechnet wird (bsp. `IDLE`/`MESH`). Dazu werden Signale aus dem Backend an das Statusbar-Widget geschickt. Wenn das Backend nicht arbeitet und trotzdem nicht `IDLE` angezeigt wird, so wurde in einer Methode vergessen, das Signal zum resetten abzusetzen.\n",
    "- *Ladebalken*: Ähnlich wie die Statusanzeige werden mit Signalen informationen über den Fortschritt (beispielsweise eines Algorithmusses) gesendet und verabeitet. Nicht jeder implementierte Algorithmus sendet diese Signale und bei vielen Algorithmen ist eine [vorhersage des Fortschritts auch nicht möglich](https://xkcd.com/612/). Der Ladebalken zeigt **nur** den Fortschritt **eines** Schrittes.\n",
    "- *Schrittzähler*: Der Schrittzähler wird ebenfalls aus dem Backend mit Signalen angesprochen. Auch für den Schrittzähler gilt, dass ein Reset vergessen wurde, wenn dieser Angezeigt wird, allerdings keine Ausführung im Hintergrund stattfindet.\n"
   ]
  },
  {
   "cell_type": "markdown",
   "metadata": {
    "ExecuteTime": {
     "end_time": "2018-10-16T09:36:32.159984Z",
     "start_time": "2018-10-16T09:36:32.157544Z"
    }
   },
   "source": [
    "## LunoCam - Pyrometer\n",
    "\n",
    "Das Pyrometer besteht aus einem QML Frontend und einem Qt-Backend. Leider muss das Pyrometer nochmal überarbeitet werden, da zuvor die *QCharts* Klasse benutzt wurde, welche aber leider unter der [GPL3-Lizenz](https://www.gnu.org/licenses/gpl-3.0.de.html) steht und somit nicht in verwendet werden **darf**!\n",
    "Zudem startet das LunoCam-Programm nicht immer sauber und oft werden connections zum QML-Pyrometer nicht richtig gesetzt, was den Fortschritt erschwert. Da DP Probleme mit Heap-Corruption hat, wird das bei LunoCam auch der Fall sein.\n",
    "\n",
    "Die Backendklasse des Pyrometers heißt QMLPyrometer und befindet sich unter SRC->GUI->QML. Sie wird von QMyFormWidget geladen (siehe *addQMLWidget()*-Funktion). Das Backend besitzt Funktionen um neue Daten, die aus Zeitvektoren bestehen, hinzuzufügen und X- und Y-Maximum zu berechnen. Diese werden für die Anzeige eines Graphens gebraucht. Die Schnittstelle zur Maschine fehlt derzeit noch, kann allerdings nur mit der SPS geschehen.\n",
    "\n",
    "Das Frontend besteht aus zwei Teilen (rectangles), die überneinander sind. Im oberen Rechteck werden aktuelle Pyrometerwerte aber auch Startwerte in Textfeldern angezeigt. Allgemein soll hier der Status/Zustand des Pyrometers angezeigt werden.\n",
    "\n",
    "Im unteren Bereich sollen aktuelle Laufzeitparameter angezeigt werden. Diese sollen später auch mit einem Datensatz geladen werden können. Vom Programm generierte Zufallsdatensätze lassen sich bereits anzeigen. Zudem befindet sich auf der rechten Seite eine Liste von CheckBoxen. Mit diesen ist es möglich, Graphen auszublenden.\n"
   ]
  },
  {
   "cell_type": "markdown",
   "metadata": {},
   "source": [
    "## LunoData - Lunovu Datenbank\n",
    "\n",
    "Anders als jedes andere Softwareprodukt von Lunovu wurde bei der Datenbank git als Versionskontrollsystem genutzt. Allerdings ausschließlich auf einer Lokalen Ebene.\n",
    "\n",
    "Daher befindet sich eine Kopie des Projektes [auf dem Server](\\\\FSERVER1\\F-E\\01 Produktentwicklung\\50 SoftwareEntwicklung\\51c LunoDatenbank-Backup).\n",
    "\n",
    "Das Frontend benutzt **Qt** und **MySQLConnector** als externe Abhängigkeiten.\n",
    "\n",
    "### Frontend (Qt-Software)\n",
    "\n",
    "Die Anforderungen an die Datenbank haben sich kontinuierlich geändert und das Datenbankfrontent befindet sich in seiner dritten Iteration. Im folgenden werden die wichtigsten Klassen aufgelistet und ihre Funktion erläutert:\n",
    "- *definitions* und *globalvariables*: Die Software besitzt eigene Debuggingoptionen die sich über Makros steuern lassen. Auch wenn es zunächst umständlich klingt, hat sich gezeigt, dass diese Art von Steuerung sehr schön ist um zu Debuggen und Kontextinterne informationen zu erhalten.\n",
    "- *LunoData*: Lunodata ist das Hauptfenster (abgeleitet von QWindow) der Anwendung. Dort wird direkt die Verbindung zur Datenbank hergestellt. Dies geschieht mit einem von einem *Smartpointer* abgeleiteten *Connection-Pointer*. Dieser überprüft automatisch die Verbindung und baut bei Abbruch eine neue auf. Zudem besitzt LunoData eine ui-Datei.\n",
    "- *TableView*: TableView ist für die Anzeige der Daten aus der Datenbank zuständig. In der Datenbank soll man später Suchen können, weshalb TableView entsprechend dynamsich sein muss. Zudem existiert eine *QTreeView* die das Einklappen und Ausklappen von Spalten der Datenbank ermöglicht.\n",
    "- *TableMeta*: TableMeta ist die Implementierung der TreeView. Sie hinterlegt die Struktur der Datenbank und erzeugt (nicht ganz fehlerfrei) mögliche Querys.\n",
    "- *QueryBuilder*: Namespace, der Methoden zum Bau von Querys besitzt. Querys werden hier nur gebaut und in SQLStrings umgewandelt. Hier werden keine Querys abgesetzt.\n",
    "- *QueryExecuter*: Namespace, der Methoden zum Schicken von Querys besitzt. Es gibt verschiedene Arten von Querys, die hier implementiert werden. Hier werden methoden vom QueryBuilder eingesetzt.\n",
    "- *Excel-Sachen*: Ursprünglich ist geplant gewesen, die Datenbank nach Excel exportieren zu können. Das ist durch die Excelklassen möglich. Die Excelklassen aktuell zu halten, wenn die Datenbank ständig ihre Struktur ändert, ist unmöglich.\n",
    "- *InsertDialog*: Eingabemaske zum hinzufügen neuer Daten. Diese lädt *InsertGridViews*. Jeder InsertDialog kann einen weiteren Dialog öffnen, um Rekursiv Daten hinzfügen zu können.\n",
    "- *InsertGridView*: Eingabemakse zum hinzufügen neuer Daten. Diese werden mit verschiedenen Filtern gefiltert, um die Gui je nach Sonderfall, Notfall oder \"Kannst du noch mal eben\" umzugestalten.\n",
    "- *InsertViewer*: Oberklasse für \"Anschauungs\"-Filter. Es gibt viele verschiedene Filter für die verschiedenen Tabellen. Die Gui bei der *InsertGridView* wird dynamsich erzeugt, aber nach Regeln in den Filtern abgeändert. Eventuell muss man alles \"hardcoden\", wenn die Anforderrungen stärker werden.\n",
    "\n",
    "Die Software muss verschiedene Operationen bereitstellen. **DELETE** wird nur oberflächlich gemacht, indem ein Eintrag aus der Versuchstabelle gelöscht wird.\n",
    "Bei einem **INSERT** werden dagegen alle Einträge erzeugt, sobald dieses möglich ist. Dabei wird Rekursiv der baum abgelaufen . Zuletzt wird das Versuchsobjekt erzeugt. Dadurch kann schnell festgestellt werden, ob ein erzeugen eines Versuchs schiefgelaufen ist. Auch auf Duplikate wird überprüft.\n",
    "\n",
    "### Backend - Die Datenbank\n",
    "\n",
    "Die Datenbank liegt auf dem Server und ist remote mit `dbsrv` erreichbar (Edge->127.0.0.1).\n",
    "Sie soll Versuche (Experimente) speichern. Dafür besitzt ein Versuch eine Baumstruktur. Diese ersteckt sich über viele Tabellen. Ich habe versucht, die Datenbank in [3NF](https://de.wikipedia.org/wiki/Normalisierung_%28Datenbank%29) zu halten. Viele Einträge können auch NULL sein, da Versuche nicht immer den Medicoat, Pyrometer, usw. benutzen. Die Ortstabelle wird dafür an mehreren Stellen benötigt. Laserleistungen sind mit Versuchen in einer [MxN Tabelle](http://www.datenbanken-verstehen.de/datenmodellierung/beziehungen-datenbanken/), da jeder Versuch beliebig viele Laserleistungen haben kann und jede Laserleistung in beliebig vielen Versuchen vorkommen kann.\n",
    "\n",
    "Views für die Datenbank existieren (leider) nicht."
   ]
  },
  {
   "cell_type": "markdown",
   "metadata": {},
   "source": [
    "## Trac\n",
    "\n",
    "Ich wurde darum gebeten, [Trac](https://trac.edgewall.org/) auf dem Datenbankserver zu installieren. Die Software dafür ist installiert und die Tests von Trac selbst laufen. Allerdings habe ich keine Erfahrung im Umgang mit Trac und ein richtiges Deployment der Serversoftware fehlt noch.\n",
    "\n",
    "### GITLAB oder SVN?\n",
    "\n",
    "Ich habe vor vielen Monaten vorgeschlagen, lieber GitLab zu nutzen. Damit ist es möglich, nach [Scrum](https://de.wikipedia.org/wiki/Scrum) zu arbeiten. Komplexe Software wie DP braucht Zeit und enwickelt sich stückweise, weshalb ein vorgehen nach Scrum sinnvoll wäre. Zudem arbeiten viele Entwickler an einzelnen Projekte, anstelle als Team an Projekten zu arbeiten. Außerdem hätte man viele verschiedene Softwarelösungen zusammengefasst:\n",
    "```\n",
    "SVN(Versionskontrolle)+ Trac(Bugs festhalten)+ Excelsheets und Protokolle(weiteres Vorgehen, Backlog?)\n",
    "->\n",
    "GitLab (kann alles).\n",
    "\n",
    "Versionskontrolle: Git\n",
    "Bugs festhalten: Issue Tracking, Bug report, man kann Leute Rollen geben\n",
    "weiteres Vorgehen: Meilensteine, lassen sich in mehrere TODO's aufspalten\n",
    "```\n",
    "\n",
    "\n",
    "[Evidence 1](https://about.gitlab.com/comparison/svn-vs-gitlab.html)\n",
    "\n",
    "[5.68K vs 423](https://stackshare.io/stackups/gitlab-vs-svn)\n",
    "\n",
    "[Branching](https://entwickler.de/online/development/git-subversion-svn-versionskontrollsystem-579792227.html)\n",
    "\n",
    "...\n",
    "\n",
    "#### Was bringt es mir, alles umzustellen?\n",
    "Man spart kosten und Zeit.\n",
    "\n",
    "#### Andere Tools?\n",
    "[Continous Integration](https://de.wikipedia.org/wiki/Kontinuierliche_Integration) und [Deployment](https://de.wikipedia.org/wiki/Softwareverteilung) werden auch noch kommen.\n",
    "Dann werden tool 4 und 5 in den \"Softwarestack\" eingearbeitet.\n",
    "\n",
    "#### Tests?\n",
    "Werden derzeit händig durchgeführt. Trial and Error kostet sehr viel Zeit und man findet immernoch Möglichkeiten DP zum Absturz zu bringen."
   ]
  }
 ],
 "metadata": {
  "hide_input": false,
  "kernelspec": {
   "display_name": "Python 3",
   "language": "python",
   "name": "python3"
  },
  "language_info": {
   "codemirror_mode": {
    "name": "ipython",
    "version": 3
   },
   "file_extension": ".py",
   "mimetype": "text/x-python",
   "name": "python",
   "nbconvert_exporter": "python",
   "pygments_lexer": "ipython3",
   "version": "3.5.4"
  }
 },
 "nbformat": 4,
 "nbformat_minor": 2
}
